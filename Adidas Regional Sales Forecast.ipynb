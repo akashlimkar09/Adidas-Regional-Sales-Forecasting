{
 "cells": [
  {
   "cell_type": "code",
   "execution_count": 1,
   "metadata": {
    "_cell_guid": "b1076dfc-b9ad-4769-8c92-a6c4dae69d19",
    "_uuid": "8f2839f25d086af736a60e9eeb907d3b93b6e0e5",
    "execution": {
     "iopub.execute_input": "2023-08-01T20:12:21.000997Z",
     "iopub.status.busy": "2023-08-01T20:12:21.000557Z",
     "iopub.status.idle": "2023-08-01T20:12:21.008932Z",
     "shell.execute_reply": "2023-08-01T20:12:21.006650Z",
     "shell.execute_reply.started": "2023-08-01T20:12:21.000961Z"
    }
   },
   "outputs": [
    {
     "name": "stderr",
     "output_type": "stream",
     "text": [
      "C:\\Users\\akash\\anaconda3\\lib\\site-packages\\scipy\\__init__.py:146: UserWarning: A NumPy version >=1.16.5 and <1.23.0 is required for this version of SciPy (detected version 1.24.3\n",
      "  warnings.warn(f\"A NumPy version >={np_minversion} and <{np_maxversion}\"\n"
     ]
    }
   ],
   "source": [
    "import numpy as np # linear algebra \n",
    "import matplotlib.pyplot as plt\n",
    "import seaborn as sns\n",
    "import pandas as pd"
   ]
  },
  {
   "cell_type": "code",
   "execution_count": 2,
   "metadata": {
    "execution": {
     "iopub.execute_input": "2023-08-01T20:12:21.037908Z",
     "iopub.status.busy": "2023-08-01T20:12:21.037438Z",
     "iopub.status.idle": "2023-08-01T20:12:24.001762Z",
     "shell.execute_reply": "2023-08-01T20:12:24.000285Z",
     "shell.execute_reply.started": "2023-08-01T20:12:21.037865Z"
    }
   },
   "outputs": [
    {
     "data": {
      "text/html": [
       "<div>\n",
       "<style scoped>\n",
       "    .dataframe tbody tr th:only-of-type {\n",
       "        vertical-align: middle;\n",
       "    }\n",
       "\n",
       "    .dataframe tbody tr th {\n",
       "        vertical-align: top;\n",
       "    }\n",
       "\n",
       "    .dataframe thead th {\n",
       "        text-align: right;\n",
       "    }\n",
       "</style>\n",
       "<table border=\"1\" class=\"dataframe\">\n",
       "  <thead>\n",
       "    <tr style=\"text-align: right;\">\n",
       "      <th></th>\n",
       "      <th>Unnamed: 0</th>\n",
       "      <th>Unnamed: 1</th>\n",
       "      <th>Unnamed: 2</th>\n",
       "      <th>Unnamed: 3</th>\n",
       "      <th>Unnamed: 4</th>\n",
       "      <th>Unnamed: 5</th>\n",
       "      <th>Unnamed: 6</th>\n",
       "      <th>Unnamed: 7</th>\n",
       "      <th>Unnamed: 8</th>\n",
       "      <th>Unnamed: 9</th>\n",
       "      <th>Unnamed: 10</th>\n",
       "      <th>Unnamed: 11</th>\n",
       "      <th>Unnamed: 12</th>\n",
       "      <th>Unnamed: 13</th>\n",
       "    </tr>\n",
       "  </thead>\n",
       "  <tbody>\n",
       "    <tr>\n",
       "      <th>0</th>\n",
       "      <td>NaN</td>\n",
       "      <td>NaN</td>\n",
       "      <td>Adidas Sales Database</td>\n",
       "      <td>NaN</td>\n",
       "      <td>NaN</td>\n",
       "      <td>NaN</td>\n",
       "      <td>NaN</td>\n",
       "      <td>NaN</td>\n",
       "      <td>NaN</td>\n",
       "      <td>NaN</td>\n",
       "      <td>NaN</td>\n",
       "      <td>NaN</td>\n",
       "      <td>NaN</td>\n",
       "      <td>NaN</td>\n",
       "    </tr>\n",
       "    <tr>\n",
       "      <th>1</th>\n",
       "      <td>NaN</td>\n",
       "      <td>NaN</td>\n",
       "      <td>NaN</td>\n",
       "      <td>NaN</td>\n",
       "      <td>NaN</td>\n",
       "      <td>NaN</td>\n",
       "      <td>NaN</td>\n",
       "      <td>NaN</td>\n",
       "      <td>NaN</td>\n",
       "      <td>NaN</td>\n",
       "      <td>NaN</td>\n",
       "      <td>NaN</td>\n",
       "      <td>NaN</td>\n",
       "      <td>NaN</td>\n",
       "    </tr>\n",
       "    <tr>\n",
       "      <th>2</th>\n",
       "      <td>NaN</td>\n",
       "      <td>NaN</td>\n",
       "      <td>NaN</td>\n",
       "      <td>NaN</td>\n",
       "      <td>NaN</td>\n",
       "      <td>NaN</td>\n",
       "      <td>NaN</td>\n",
       "      <td>NaN</td>\n",
       "      <td>NaN</td>\n",
       "      <td>NaN</td>\n",
       "      <td>NaN</td>\n",
       "      <td>NaN</td>\n",
       "      <td>NaN</td>\n",
       "      <td>NaN</td>\n",
       "    </tr>\n",
       "    <tr>\n",
       "      <th>3</th>\n",
       "      <td>NaN</td>\n",
       "      <td>Retailer</td>\n",
       "      <td>Retailer ID</td>\n",
       "      <td>Invoice Date</td>\n",
       "      <td>Region</td>\n",
       "      <td>State</td>\n",
       "      <td>City</td>\n",
       "      <td>Product</td>\n",
       "      <td>Price per Unit</td>\n",
       "      <td>Units Sold</td>\n",
       "      <td>Total Sales</td>\n",
       "      <td>Operating Profit</td>\n",
       "      <td>Operating Margin</td>\n",
       "      <td>Sales Method</td>\n",
       "    </tr>\n",
       "    <tr>\n",
       "      <th>4</th>\n",
       "      <td>NaN</td>\n",
       "      <td>Foot Locker</td>\n",
       "      <td>1185732</td>\n",
       "      <td>2020-01-01 00:00:00</td>\n",
       "      <td>Northeast</td>\n",
       "      <td>New York</td>\n",
       "      <td>New York</td>\n",
       "      <td>Men's Street Footwear</td>\n",
       "      <td>50</td>\n",
       "      <td>1200</td>\n",
       "      <td>600000</td>\n",
       "      <td>300000</td>\n",
       "      <td>0.5</td>\n",
       "      <td>In-store</td>\n",
       "    </tr>\n",
       "  </tbody>\n",
       "</table>\n",
       "</div>"
      ],
      "text/plain": [
       "   Unnamed: 0   Unnamed: 1             Unnamed: 2           Unnamed: 3  \\\n",
       "0         NaN          NaN  Adidas Sales Database                  NaN   \n",
       "1         NaN          NaN                    NaN                  NaN   \n",
       "2         NaN          NaN                    NaN                  NaN   \n",
       "3         NaN     Retailer            Retailer ID         Invoice Date   \n",
       "4         NaN  Foot Locker                1185732  2020-01-01 00:00:00   \n",
       "\n",
       "  Unnamed: 4 Unnamed: 5 Unnamed: 6             Unnamed: 7      Unnamed: 8  \\\n",
       "0        NaN        NaN        NaN                    NaN             NaN   \n",
       "1        NaN        NaN        NaN                    NaN             NaN   \n",
       "2        NaN        NaN        NaN                    NaN             NaN   \n",
       "3     Region      State       City                Product  Price per Unit   \n",
       "4  Northeast   New York   New York  Men's Street Footwear              50   \n",
       "\n",
       "   Unnamed: 9  Unnamed: 10       Unnamed: 11       Unnamed: 12   Unnamed: 13  \n",
       "0         NaN          NaN               NaN               NaN           NaN  \n",
       "1         NaN          NaN               NaN               NaN           NaN  \n",
       "2         NaN          NaN               NaN               NaN           NaN  \n",
       "3  Units Sold  Total Sales  Operating Profit  Operating Margin  Sales Method  \n",
       "4        1200       600000            300000               0.5      In-store  "
      ]
     },
     "execution_count": 2,
     "metadata": {},
     "output_type": "execute_result"
    }
   ],
   "source": [
    "df=pd.read_excel(r\"C:\\Users\\akash\\Downloads\\Adidas US Sales Datasets.xlsx\")\n",
    "df.head()"
   ]
  },
  {
   "cell_type": "markdown",
   "metadata": {},
   "source": [
    "# Data Cleaning"
   ]
  },
  {
   "cell_type": "code",
   "execution_count": 3,
   "metadata": {
    "execution": {
     "iopub.execute_input": "2023-08-01T20:12:24.004293Z",
     "iopub.status.busy": "2023-08-01T20:12:24.003757Z",
     "iopub.status.idle": "2023-08-01T20:12:24.061558Z",
     "shell.execute_reply": "2023-08-01T20:12:24.060317Z",
     "shell.execute_reply.started": "2023-08-01T20:12:24.004242Z"
    }
   },
   "outputs": [
    {
     "name": "stdout",
     "output_type": "stream",
     "text": [
      "<class 'pandas.core.frame.DataFrame'>\n",
      "RangeIndex: 9652 entries, 0 to 9651\n",
      "Data columns (total 14 columns):\n",
      " #   Column       Non-Null Count  Dtype  \n",
      "---  ------       --------------  -----  \n",
      " 0   Unnamed: 0   0 non-null      float64\n",
      " 1   Unnamed: 1   9649 non-null   object \n",
      " 2   Unnamed: 2   9650 non-null   object \n",
      " 3   Unnamed: 3   9649 non-null   object \n",
      " 4   Unnamed: 4   9649 non-null   object \n",
      " 5   Unnamed: 5   9649 non-null   object \n",
      " 6   Unnamed: 6   9649 non-null   object \n",
      " 7   Unnamed: 7   9649 non-null   object \n",
      " 8   Unnamed: 8   9649 non-null   object \n",
      " 9   Unnamed: 9   9649 non-null   object \n",
      " 10  Unnamed: 10  9649 non-null   object \n",
      " 11  Unnamed: 11  9649 non-null   object \n",
      " 12  Unnamed: 12  9649 non-null   object \n",
      " 13  Unnamed: 13  9649 non-null   object \n",
      "dtypes: float64(1), object(13)\n",
      "memory usage: 1.0+ MB\n"
     ]
    }
   ],
   "source": [
    "df.info()"
   ]
  },
  {
   "cell_type": "code",
   "execution_count": 4,
   "metadata": {
    "execution": {
     "iopub.execute_input": "2023-08-01T20:12:24.066281Z",
     "iopub.status.busy": "2023-08-01T20:12:24.065195Z",
     "iopub.status.idle": "2023-08-01T20:12:24.081302Z",
     "shell.execute_reply": "2023-08-01T20:12:24.079910Z",
     "shell.execute_reply.started": "2023-08-01T20:12:24.066234Z"
    }
   },
   "outputs": [
    {
     "data": {
      "text/html": [
       "<div>\n",
       "<style scoped>\n",
       "    .dataframe tbody tr th:only-of-type {\n",
       "        vertical-align: middle;\n",
       "    }\n",
       "\n",
       "    .dataframe tbody tr th {\n",
       "        vertical-align: top;\n",
       "    }\n",
       "\n",
       "    .dataframe thead th {\n",
       "        text-align: right;\n",
       "    }\n",
       "</style>\n",
       "<table border=\"1\" class=\"dataframe\">\n",
       "  <thead>\n",
       "    <tr style=\"text-align: right;\">\n",
       "      <th></th>\n",
       "      <th>Unnamed: 1</th>\n",
       "      <th>Unnamed: 2</th>\n",
       "      <th>Unnamed: 3</th>\n",
       "      <th>Unnamed: 4</th>\n",
       "      <th>Unnamed: 5</th>\n",
       "      <th>Unnamed: 6</th>\n",
       "      <th>Unnamed: 7</th>\n",
       "      <th>Unnamed: 8</th>\n",
       "      <th>Unnamed: 9</th>\n",
       "      <th>Unnamed: 10</th>\n",
       "      <th>Unnamed: 11</th>\n",
       "      <th>Unnamed: 12</th>\n",
       "      <th>Unnamed: 13</th>\n",
       "    </tr>\n",
       "  </thead>\n",
       "  <tbody>\n",
       "    <tr>\n",
       "      <th>0</th>\n",
       "      <td>NaN</td>\n",
       "      <td>Adidas Sales Database</td>\n",
       "      <td>NaN</td>\n",
       "      <td>NaN</td>\n",
       "      <td>NaN</td>\n",
       "      <td>NaN</td>\n",
       "      <td>NaN</td>\n",
       "      <td>NaN</td>\n",
       "      <td>NaN</td>\n",
       "      <td>NaN</td>\n",
       "      <td>NaN</td>\n",
       "      <td>NaN</td>\n",
       "      <td>NaN</td>\n",
       "    </tr>\n",
       "    <tr>\n",
       "      <th>1</th>\n",
       "      <td>NaN</td>\n",
       "      <td>NaN</td>\n",
       "      <td>NaN</td>\n",
       "      <td>NaN</td>\n",
       "      <td>NaN</td>\n",
       "      <td>NaN</td>\n",
       "      <td>NaN</td>\n",
       "      <td>NaN</td>\n",
       "      <td>NaN</td>\n",
       "      <td>NaN</td>\n",
       "      <td>NaN</td>\n",
       "      <td>NaN</td>\n",
       "      <td>NaN</td>\n",
       "    </tr>\n",
       "    <tr>\n",
       "      <th>2</th>\n",
       "      <td>NaN</td>\n",
       "      <td>NaN</td>\n",
       "      <td>NaN</td>\n",
       "      <td>NaN</td>\n",
       "      <td>NaN</td>\n",
       "      <td>NaN</td>\n",
       "      <td>NaN</td>\n",
       "      <td>NaN</td>\n",
       "      <td>NaN</td>\n",
       "      <td>NaN</td>\n",
       "      <td>NaN</td>\n",
       "      <td>NaN</td>\n",
       "      <td>NaN</td>\n",
       "    </tr>\n",
       "    <tr>\n",
       "      <th>3</th>\n",
       "      <td>Retailer</td>\n",
       "      <td>Retailer ID</td>\n",
       "      <td>Invoice Date</td>\n",
       "      <td>Region</td>\n",
       "      <td>State</td>\n",
       "      <td>City</td>\n",
       "      <td>Product</td>\n",
       "      <td>Price per Unit</td>\n",
       "      <td>Units Sold</td>\n",
       "      <td>Total Sales</td>\n",
       "      <td>Operating Profit</td>\n",
       "      <td>Operating Margin</td>\n",
       "      <td>Sales Method</td>\n",
       "    </tr>\n",
       "    <tr>\n",
       "      <th>4</th>\n",
       "      <td>Foot Locker</td>\n",
       "      <td>1185732</td>\n",
       "      <td>2020-01-01 00:00:00</td>\n",
       "      <td>Northeast</td>\n",
       "      <td>New York</td>\n",
       "      <td>New York</td>\n",
       "      <td>Men's Street Footwear</td>\n",
       "      <td>50</td>\n",
       "      <td>1200</td>\n",
       "      <td>600000</td>\n",
       "      <td>300000</td>\n",
       "      <td>0.5</td>\n",
       "      <td>In-store</td>\n",
       "    </tr>\n",
       "    <tr>\n",
       "      <th>...</th>\n",
       "      <td>...</td>\n",
       "      <td>...</td>\n",
       "      <td>...</td>\n",
       "      <td>...</td>\n",
       "      <td>...</td>\n",
       "      <td>...</td>\n",
       "      <td>...</td>\n",
       "      <td>...</td>\n",
       "      <td>...</td>\n",
       "      <td>...</td>\n",
       "      <td>...</td>\n",
       "      <td>...</td>\n",
       "      <td>...</td>\n",
       "    </tr>\n",
       "    <tr>\n",
       "      <th>9647</th>\n",
       "      <td>Foot Locker</td>\n",
       "      <td>1185732</td>\n",
       "      <td>2021-01-24 00:00:00</td>\n",
       "      <td>Northeast</td>\n",
       "      <td>New Hampshire</td>\n",
       "      <td>Manchester</td>\n",
       "      <td>Men's Apparel</td>\n",
       "      <td>50</td>\n",
       "      <td>64</td>\n",
       "      <td>3200</td>\n",
       "      <td>896.0</td>\n",
       "      <td>0.28</td>\n",
       "      <td>Outlet</td>\n",
       "    </tr>\n",
       "    <tr>\n",
       "      <th>9648</th>\n",
       "      <td>Foot Locker</td>\n",
       "      <td>1185732</td>\n",
       "      <td>2021-01-24 00:00:00</td>\n",
       "      <td>Northeast</td>\n",
       "      <td>New Hampshire</td>\n",
       "      <td>Manchester</td>\n",
       "      <td>Women's Apparel</td>\n",
       "      <td>41</td>\n",
       "      <td>105</td>\n",
       "      <td>4305</td>\n",
       "      <td>1377.6</td>\n",
       "      <td>0.32</td>\n",
       "      <td>Outlet</td>\n",
       "    </tr>\n",
       "    <tr>\n",
       "      <th>9649</th>\n",
       "      <td>Foot Locker</td>\n",
       "      <td>1185732</td>\n",
       "      <td>2021-02-22 00:00:00</td>\n",
       "      <td>Northeast</td>\n",
       "      <td>New Hampshire</td>\n",
       "      <td>Manchester</td>\n",
       "      <td>Men's Street Footwear</td>\n",
       "      <td>41</td>\n",
       "      <td>184</td>\n",
       "      <td>7544</td>\n",
       "      <td>2791.28</td>\n",
       "      <td>0.37</td>\n",
       "      <td>Outlet</td>\n",
       "    </tr>\n",
       "    <tr>\n",
       "      <th>9650</th>\n",
       "      <td>Foot Locker</td>\n",
       "      <td>1185732</td>\n",
       "      <td>2021-02-22 00:00:00</td>\n",
       "      <td>Northeast</td>\n",
       "      <td>New Hampshire</td>\n",
       "      <td>Manchester</td>\n",
       "      <td>Men's Athletic Footwear</td>\n",
       "      <td>42</td>\n",
       "      <td>70</td>\n",
       "      <td>2940</td>\n",
       "      <td>1234.8</td>\n",
       "      <td>0.42</td>\n",
       "      <td>Outlet</td>\n",
       "    </tr>\n",
       "    <tr>\n",
       "      <th>9651</th>\n",
       "      <td>Foot Locker</td>\n",
       "      <td>1185732</td>\n",
       "      <td>2021-02-22 00:00:00</td>\n",
       "      <td>Northeast</td>\n",
       "      <td>New Hampshire</td>\n",
       "      <td>Manchester</td>\n",
       "      <td>Women's Street Footwear</td>\n",
       "      <td>29</td>\n",
       "      <td>83</td>\n",
       "      <td>2407</td>\n",
       "      <td>649.89</td>\n",
       "      <td>0.27</td>\n",
       "      <td>Outlet</td>\n",
       "    </tr>\n",
       "  </tbody>\n",
       "</table>\n",
       "<p>9652 rows × 13 columns</p>\n",
       "</div>"
      ],
      "text/plain": [
       "       Unnamed: 1             Unnamed: 2           Unnamed: 3 Unnamed: 4  \\\n",
       "0             NaN  Adidas Sales Database                  NaN        NaN   \n",
       "1             NaN                    NaN                  NaN        NaN   \n",
       "2             NaN                    NaN                  NaN        NaN   \n",
       "3        Retailer            Retailer ID         Invoice Date     Region   \n",
       "4     Foot Locker                1185732  2020-01-01 00:00:00  Northeast   \n",
       "...           ...                    ...                  ...        ...   \n",
       "9647  Foot Locker                1185732  2021-01-24 00:00:00  Northeast   \n",
       "9648  Foot Locker                1185732  2021-01-24 00:00:00  Northeast   \n",
       "9649  Foot Locker                1185732  2021-02-22 00:00:00  Northeast   \n",
       "9650  Foot Locker                1185732  2021-02-22 00:00:00  Northeast   \n",
       "9651  Foot Locker                1185732  2021-02-22 00:00:00  Northeast   \n",
       "\n",
       "         Unnamed: 5  Unnamed: 6               Unnamed: 7      Unnamed: 8  \\\n",
       "0               NaN         NaN                      NaN             NaN   \n",
       "1               NaN         NaN                      NaN             NaN   \n",
       "2               NaN         NaN                      NaN             NaN   \n",
       "3             State        City                  Product  Price per Unit   \n",
       "4          New York    New York    Men's Street Footwear              50   \n",
       "...             ...         ...                      ...             ...   \n",
       "9647  New Hampshire  Manchester            Men's Apparel              50   \n",
       "9648  New Hampshire  Manchester          Women's Apparel              41   \n",
       "9649  New Hampshire  Manchester    Men's Street Footwear              41   \n",
       "9650  New Hampshire  Manchester  Men's Athletic Footwear              42   \n",
       "9651  New Hampshire  Manchester  Women's Street Footwear              29   \n",
       "\n",
       "      Unnamed: 9  Unnamed: 10       Unnamed: 11       Unnamed: 12  \\\n",
       "0            NaN          NaN               NaN               NaN   \n",
       "1            NaN          NaN               NaN               NaN   \n",
       "2            NaN          NaN               NaN               NaN   \n",
       "3     Units Sold  Total Sales  Operating Profit  Operating Margin   \n",
       "4           1200       600000            300000               0.5   \n",
       "...          ...          ...               ...               ...   \n",
       "9647          64         3200             896.0              0.28   \n",
       "9648         105         4305            1377.6              0.32   \n",
       "9649         184         7544           2791.28              0.37   \n",
       "9650          70         2940            1234.8              0.42   \n",
       "9651          83         2407            649.89              0.27   \n",
       "\n",
       "       Unnamed: 13  \n",
       "0              NaN  \n",
       "1              NaN  \n",
       "2              NaN  \n",
       "3     Sales Method  \n",
       "4         In-store  \n",
       "...            ...  \n",
       "9647        Outlet  \n",
       "9648        Outlet  \n",
       "9649        Outlet  \n",
       "9650        Outlet  \n",
       "9651        Outlet  \n",
       "\n",
       "[9652 rows x 13 columns]"
      ]
     },
     "execution_count": 4,
     "metadata": {},
     "output_type": "execute_result"
    }
   ],
   "source": [
    "df = df.drop('Unnamed: 0',axis=1)\n",
    "df"
   ]
  },
  {
   "cell_type": "code",
   "execution_count": 5,
   "metadata": {
    "execution": {
     "iopub.execute_input": "2023-08-01T20:12:24.083230Z",
     "iopub.status.busy": "2023-08-01T20:12:24.082803Z",
     "iopub.status.idle": "2023-08-01T20:12:24.142929Z",
     "shell.execute_reply": "2023-08-01T20:12:24.141622Z",
     "shell.execute_reply.started": "2023-08-01T20:12:24.083189Z"
    }
   },
   "outputs": [
    {
     "name": "stdout",
     "output_type": "stream",
     "text": [
      "<class 'pandas.core.frame.DataFrame'>\n",
      "RangeIndex: 9652 entries, 0 to 9651\n",
      "Data columns (total 13 columns):\n",
      " #   Column       Non-Null Count  Dtype \n",
      "---  ------       --------------  ----- \n",
      " 0   Unnamed: 1   9649 non-null   object\n",
      " 1   Unnamed: 2   9650 non-null   object\n",
      " 2   Unnamed: 3   9649 non-null   object\n",
      " 3   Unnamed: 4   9649 non-null   object\n",
      " 4   Unnamed: 5   9649 non-null   object\n",
      " 5   Unnamed: 6   9649 non-null   object\n",
      " 6   Unnamed: 7   9649 non-null   object\n",
      " 7   Unnamed: 8   9649 non-null   object\n",
      " 8   Unnamed: 9   9649 non-null   object\n",
      " 9   Unnamed: 10  9649 non-null   object\n",
      " 10  Unnamed: 11  9649 non-null   object\n",
      " 11  Unnamed: 12  9649 non-null   object\n",
      " 12  Unnamed: 13  9649 non-null   object\n",
      "dtypes: object(13)\n",
      "memory usage: 980.4+ KB\n"
     ]
    }
   ],
   "source": [
    "df.info()"
   ]
  },
  {
   "cell_type": "code",
   "execution_count": 6,
   "metadata": {
    "execution": {
     "iopub.execute_input": "2023-08-01T20:12:24.144906Z",
     "iopub.status.busy": "2023-08-01T20:12:24.144449Z",
     "iopub.status.idle": "2023-08-01T20:12:24.155247Z",
     "shell.execute_reply": "2023-08-01T20:12:24.153583Z",
     "shell.execute_reply.started": "2023-08-01T20:12:24.144863Z"
    }
   },
   "outputs": [],
   "source": [
    "df = df.drop(labels=[0,1,2], axis=0)"
   ]
  },
  {
   "cell_type": "code",
   "execution_count": 7,
   "metadata": {
    "execution": {
     "iopub.execute_input": "2023-08-01T20:12:24.158016Z",
     "iopub.status.busy": "2023-08-01T20:12:24.157536Z",
     "iopub.status.idle": "2023-08-01T20:12:24.179425Z",
     "shell.execute_reply": "2023-08-01T20:12:24.178363Z",
     "shell.execute_reply.started": "2023-08-01T20:12:24.157972Z"
    }
   },
   "outputs": [
    {
     "data": {
      "text/html": [
       "<div>\n",
       "<style scoped>\n",
       "    .dataframe tbody tr th:only-of-type {\n",
       "        vertical-align: middle;\n",
       "    }\n",
       "\n",
       "    .dataframe tbody tr th {\n",
       "        vertical-align: top;\n",
       "    }\n",
       "\n",
       "    .dataframe thead th {\n",
       "        text-align: right;\n",
       "    }\n",
       "</style>\n",
       "<table border=\"1\" class=\"dataframe\">\n",
       "  <thead>\n",
       "    <tr style=\"text-align: right;\">\n",
       "      <th></th>\n",
       "      <th>Unnamed: 1</th>\n",
       "      <th>Unnamed: 2</th>\n",
       "      <th>Unnamed: 3</th>\n",
       "      <th>Unnamed: 4</th>\n",
       "      <th>Unnamed: 5</th>\n",
       "      <th>Unnamed: 6</th>\n",
       "      <th>Unnamed: 7</th>\n",
       "      <th>Unnamed: 8</th>\n",
       "      <th>Unnamed: 9</th>\n",
       "      <th>Unnamed: 10</th>\n",
       "      <th>Unnamed: 11</th>\n",
       "      <th>Unnamed: 12</th>\n",
       "      <th>Unnamed: 13</th>\n",
       "    </tr>\n",
       "  </thead>\n",
       "  <tbody>\n",
       "    <tr>\n",
       "      <th>3</th>\n",
       "      <td>Retailer</td>\n",
       "      <td>Retailer ID</td>\n",
       "      <td>Invoice Date</td>\n",
       "      <td>Region</td>\n",
       "      <td>State</td>\n",
       "      <td>City</td>\n",
       "      <td>Product</td>\n",
       "      <td>Price per Unit</td>\n",
       "      <td>Units Sold</td>\n",
       "      <td>Total Sales</td>\n",
       "      <td>Operating Profit</td>\n",
       "      <td>Operating Margin</td>\n",
       "      <td>Sales Method</td>\n",
       "    </tr>\n",
       "    <tr>\n",
       "      <th>4</th>\n",
       "      <td>Foot Locker</td>\n",
       "      <td>1185732</td>\n",
       "      <td>2020-01-01 00:00:00</td>\n",
       "      <td>Northeast</td>\n",
       "      <td>New York</td>\n",
       "      <td>New York</td>\n",
       "      <td>Men's Street Footwear</td>\n",
       "      <td>50</td>\n",
       "      <td>1200</td>\n",
       "      <td>600000</td>\n",
       "      <td>300000</td>\n",
       "      <td>0.5</td>\n",
       "      <td>In-store</td>\n",
       "    </tr>\n",
       "    <tr>\n",
       "      <th>5</th>\n",
       "      <td>Foot Locker</td>\n",
       "      <td>1185732</td>\n",
       "      <td>2020-01-02 00:00:00</td>\n",
       "      <td>Northeast</td>\n",
       "      <td>New York</td>\n",
       "      <td>New York</td>\n",
       "      <td>Men's Athletic Footwear</td>\n",
       "      <td>50</td>\n",
       "      <td>1000</td>\n",
       "      <td>500000</td>\n",
       "      <td>150000</td>\n",
       "      <td>0.3</td>\n",
       "      <td>In-store</td>\n",
       "    </tr>\n",
       "    <tr>\n",
       "      <th>6</th>\n",
       "      <td>Foot Locker</td>\n",
       "      <td>1185732</td>\n",
       "      <td>2020-01-03 00:00:00</td>\n",
       "      <td>Northeast</td>\n",
       "      <td>New York</td>\n",
       "      <td>New York</td>\n",
       "      <td>Women's Street Footwear</td>\n",
       "      <td>40</td>\n",
       "      <td>1000</td>\n",
       "      <td>400000</td>\n",
       "      <td>140000</td>\n",
       "      <td>0.35</td>\n",
       "      <td>In-store</td>\n",
       "    </tr>\n",
       "    <tr>\n",
       "      <th>7</th>\n",
       "      <td>Foot Locker</td>\n",
       "      <td>1185732</td>\n",
       "      <td>2020-01-04 00:00:00</td>\n",
       "      <td>Northeast</td>\n",
       "      <td>New York</td>\n",
       "      <td>New York</td>\n",
       "      <td>Women's Athletic Footwear</td>\n",
       "      <td>45</td>\n",
       "      <td>850</td>\n",
       "      <td>382500</td>\n",
       "      <td>133875</td>\n",
       "      <td>0.35</td>\n",
       "      <td>In-store</td>\n",
       "    </tr>\n",
       "  </tbody>\n",
       "</table>\n",
       "</div>"
      ],
      "text/plain": [
       "    Unnamed: 1   Unnamed: 2           Unnamed: 3 Unnamed: 4 Unnamed: 5  \\\n",
       "3     Retailer  Retailer ID         Invoice Date     Region      State   \n",
       "4  Foot Locker      1185732  2020-01-01 00:00:00  Northeast   New York   \n",
       "5  Foot Locker      1185732  2020-01-02 00:00:00  Northeast   New York   \n",
       "6  Foot Locker      1185732  2020-01-03 00:00:00  Northeast   New York   \n",
       "7  Foot Locker      1185732  2020-01-04 00:00:00  Northeast   New York   \n",
       "\n",
       "  Unnamed: 6                 Unnamed: 7      Unnamed: 8  Unnamed: 9  \\\n",
       "3       City                    Product  Price per Unit  Units Sold   \n",
       "4   New York      Men's Street Footwear              50        1200   \n",
       "5   New York    Men's Athletic Footwear              50        1000   \n",
       "6   New York    Women's Street Footwear              40        1000   \n",
       "7   New York  Women's Athletic Footwear              45         850   \n",
       "\n",
       "   Unnamed: 10       Unnamed: 11       Unnamed: 12   Unnamed: 13  \n",
       "3  Total Sales  Operating Profit  Operating Margin  Sales Method  \n",
       "4       600000            300000               0.5      In-store  \n",
       "5       500000            150000               0.3      In-store  \n",
       "6       400000            140000              0.35      In-store  \n",
       "7       382500            133875              0.35      In-store  "
      ]
     },
     "execution_count": 7,
     "metadata": {},
     "output_type": "execute_result"
    }
   ],
   "source": [
    "df.head()"
   ]
  },
  {
   "cell_type": "code",
   "execution_count": 8,
   "metadata": {
    "execution": {
     "iopub.execute_input": "2023-08-01T20:12:24.181605Z",
     "iopub.status.busy": "2023-08-01T20:12:24.181060Z",
     "iopub.status.idle": "2023-08-01T20:12:24.209040Z",
     "shell.execute_reply": "2023-08-01T20:12:24.207950Z",
     "shell.execute_reply.started": "2023-08-01T20:12:24.181570Z"
    }
   },
   "outputs": [
    {
     "data": {
      "text/html": [
       "<div>\n",
       "<style scoped>\n",
       "    .dataframe tbody tr th:only-of-type {\n",
       "        vertical-align: middle;\n",
       "    }\n",
       "\n",
       "    .dataframe tbody tr th {\n",
       "        vertical-align: top;\n",
       "    }\n",
       "\n",
       "    .dataframe thead th {\n",
       "        text-align: right;\n",
       "    }\n",
       "</style>\n",
       "<table border=\"1\" class=\"dataframe\">\n",
       "  <thead>\n",
       "    <tr style=\"text-align: right;\">\n",
       "      <th></th>\n",
       "      <th>Retailer</th>\n",
       "      <th>Retailer ID</th>\n",
       "      <th>Invoice Date</th>\n",
       "      <th>Region</th>\n",
       "      <th>State</th>\n",
       "      <th>City</th>\n",
       "      <th>Product</th>\n",
       "      <th>Price per Unit</th>\n",
       "      <th>Units Sold</th>\n",
       "      <th>Total Sales</th>\n",
       "      <th>Operating Profit</th>\n",
       "      <th>Operating Margin</th>\n",
       "      <th>Sales Method</th>\n",
       "    </tr>\n",
       "  </thead>\n",
       "  <tbody>\n",
       "    <tr>\n",
       "      <th>1</th>\n",
       "      <td>Foot Locker</td>\n",
       "      <td>1185732</td>\n",
       "      <td>2020-01-01 00:00:00</td>\n",
       "      <td>Northeast</td>\n",
       "      <td>New York</td>\n",
       "      <td>New York</td>\n",
       "      <td>Men's Street Footwear</td>\n",
       "      <td>50</td>\n",
       "      <td>1200</td>\n",
       "      <td>600000</td>\n",
       "      <td>300000</td>\n",
       "      <td>0.5</td>\n",
       "      <td>In-store</td>\n",
       "    </tr>\n",
       "    <tr>\n",
       "      <th>2</th>\n",
       "      <td>Foot Locker</td>\n",
       "      <td>1185732</td>\n",
       "      <td>2020-01-02 00:00:00</td>\n",
       "      <td>Northeast</td>\n",
       "      <td>New York</td>\n",
       "      <td>New York</td>\n",
       "      <td>Men's Athletic Footwear</td>\n",
       "      <td>50</td>\n",
       "      <td>1000</td>\n",
       "      <td>500000</td>\n",
       "      <td>150000</td>\n",
       "      <td>0.3</td>\n",
       "      <td>In-store</td>\n",
       "    </tr>\n",
       "    <tr>\n",
       "      <th>3</th>\n",
       "      <td>Foot Locker</td>\n",
       "      <td>1185732</td>\n",
       "      <td>2020-01-03 00:00:00</td>\n",
       "      <td>Northeast</td>\n",
       "      <td>New York</td>\n",
       "      <td>New York</td>\n",
       "      <td>Women's Street Footwear</td>\n",
       "      <td>40</td>\n",
       "      <td>1000</td>\n",
       "      <td>400000</td>\n",
       "      <td>140000</td>\n",
       "      <td>0.35</td>\n",
       "      <td>In-store</td>\n",
       "    </tr>\n",
       "    <tr>\n",
       "      <th>4</th>\n",
       "      <td>Foot Locker</td>\n",
       "      <td>1185732</td>\n",
       "      <td>2020-01-04 00:00:00</td>\n",
       "      <td>Northeast</td>\n",
       "      <td>New York</td>\n",
       "      <td>New York</td>\n",
       "      <td>Women's Athletic Footwear</td>\n",
       "      <td>45</td>\n",
       "      <td>850</td>\n",
       "      <td>382500</td>\n",
       "      <td>133875</td>\n",
       "      <td>0.35</td>\n",
       "      <td>In-store</td>\n",
       "    </tr>\n",
       "    <tr>\n",
       "      <th>5</th>\n",
       "      <td>Foot Locker</td>\n",
       "      <td>1185732</td>\n",
       "      <td>2020-01-05 00:00:00</td>\n",
       "      <td>Northeast</td>\n",
       "      <td>New York</td>\n",
       "      <td>New York</td>\n",
       "      <td>Men's Apparel</td>\n",
       "      <td>60</td>\n",
       "      <td>900</td>\n",
       "      <td>540000</td>\n",
       "      <td>162000</td>\n",
       "      <td>0.3</td>\n",
       "      <td>In-store</td>\n",
       "    </tr>\n",
       "  </tbody>\n",
       "</table>\n",
       "</div>"
      ],
      "text/plain": [
       "0     Retailer Retailer ID         Invoice Date     Region     State  \\\n",
       "1  Foot Locker     1185732  2020-01-01 00:00:00  Northeast  New York   \n",
       "2  Foot Locker     1185732  2020-01-02 00:00:00  Northeast  New York   \n",
       "3  Foot Locker     1185732  2020-01-03 00:00:00  Northeast  New York   \n",
       "4  Foot Locker     1185732  2020-01-04 00:00:00  Northeast  New York   \n",
       "5  Foot Locker     1185732  2020-01-05 00:00:00  Northeast  New York   \n",
       "\n",
       "0      City                    Product Price per Unit Units Sold Total Sales  \\\n",
       "1  New York      Men's Street Footwear             50       1200      600000   \n",
       "2  New York    Men's Athletic Footwear             50       1000      500000   \n",
       "3  New York    Women's Street Footwear             40       1000      400000   \n",
       "4  New York  Women's Athletic Footwear             45        850      382500   \n",
       "5  New York              Men's Apparel             60        900      540000   \n",
       "\n",
       "0 Operating Profit Operating Margin Sales Method  \n",
       "1           300000              0.5     In-store  \n",
       "2           150000              0.3     In-store  \n",
       "3           140000             0.35     In-store  \n",
       "4           133875             0.35     In-store  \n",
       "5           162000              0.3     In-store  "
      ]
     },
     "execution_count": 8,
     "metadata": {},
     "output_type": "execute_result"
    }
   ],
   "source": [
    "df = df.reset_index(drop=True)\n",
    "df.columns = df.iloc[0]\n",
    "df = df.drop(labels=[0], axis=0)\n",
    "df.head()"
   ]
  },
  {
   "cell_type": "markdown",
   "metadata": {},
   "source": [
    "# EDA"
   ]
  },
  {
   "cell_type": "code",
   "execution_count": 9,
   "metadata": {
    "execution": {
     "iopub.execute_input": "2023-08-01T20:12:24.210817Z",
     "iopub.status.busy": "2023-08-01T20:12:24.210432Z",
     "iopub.status.idle": "2023-08-01T20:12:24.265349Z",
     "shell.execute_reply": "2023-08-01T20:12:24.264209Z",
     "shell.execute_reply.started": "2023-08-01T20:12:24.210787Z"
    }
   },
   "outputs": [
    {
     "name": "stdout",
     "output_type": "stream",
     "text": [
      "<class 'pandas.core.frame.DataFrame'>\n",
      "RangeIndex: 9648 entries, 1 to 9648\n",
      "Data columns (total 13 columns):\n",
      " #   Column            Non-Null Count  Dtype \n",
      "---  ------            --------------  ----- \n",
      " 0   Retailer          9648 non-null   object\n",
      " 1   Retailer ID       9648 non-null   object\n",
      " 2   Invoice Date      9648 non-null   object\n",
      " 3   Region            9648 non-null   object\n",
      " 4   State             9648 non-null   object\n",
      " 5   City              9648 non-null   object\n",
      " 6   Product           9648 non-null   object\n",
      " 7   Price per Unit    9648 non-null   object\n",
      " 8   Units Sold        9648 non-null   object\n",
      " 9   Total Sales       9648 non-null   object\n",
      " 10  Operating Profit  9648 non-null   object\n",
      " 11  Operating Margin  9648 non-null   object\n",
      " 12  Sales Method      9648 non-null   object\n",
      "dtypes: object(13)\n",
      "memory usage: 980.0+ KB\n"
     ]
    }
   ],
   "source": [
    "df.info()"
   ]
  },
  {
   "cell_type": "code",
   "execution_count": 10,
   "metadata": {
    "execution": {
     "iopub.execute_input": "2023-08-01T20:12:24.268184Z",
     "iopub.status.busy": "2023-08-01T20:12:24.267360Z",
     "iopub.status.idle": "2023-08-01T20:12:24.356238Z",
     "shell.execute_reply": "2023-08-01T20:12:24.355066Z",
     "shell.execute_reply.started": "2023-08-01T20:12:24.268140Z"
    }
   },
   "outputs": [
    {
     "data": {
      "text/html": [
       "<div>\n",
       "<style scoped>\n",
       "    .dataframe tbody tr th:only-of-type {\n",
       "        vertical-align: middle;\n",
       "    }\n",
       "\n",
       "    .dataframe tbody tr th {\n",
       "        vertical-align: top;\n",
       "    }\n",
       "\n",
       "    .dataframe thead th {\n",
       "        text-align: right;\n",
       "    }\n",
       "</style>\n",
       "<table border=\"1\" class=\"dataframe\">\n",
       "  <thead>\n",
       "    <tr style=\"text-align: right;\">\n",
       "      <th></th>\n",
       "      <th>Retailer</th>\n",
       "      <th>Retailer ID</th>\n",
       "      <th>Invoice Date</th>\n",
       "      <th>Region</th>\n",
       "      <th>State</th>\n",
       "      <th>City</th>\n",
       "      <th>Product</th>\n",
       "      <th>Price per Unit</th>\n",
       "      <th>Units Sold</th>\n",
       "      <th>Total Sales</th>\n",
       "      <th>Operating Profit</th>\n",
       "      <th>Operating Margin</th>\n",
       "      <th>Sales Method</th>\n",
       "    </tr>\n",
       "  </thead>\n",
       "  <tbody>\n",
       "    <tr>\n",
       "      <th>count</th>\n",
       "      <td>9648</td>\n",
       "      <td>9648</td>\n",
       "      <td>9648</td>\n",
       "      <td>9648</td>\n",
       "      <td>9648</td>\n",
       "      <td>9648</td>\n",
       "      <td>9648</td>\n",
       "      <td>9648.0</td>\n",
       "      <td>9648</td>\n",
       "      <td>9648.0</td>\n",
       "      <td>9648.0</td>\n",
       "      <td>9648.00</td>\n",
       "      <td>9648</td>\n",
       "    </tr>\n",
       "    <tr>\n",
       "      <th>unique</th>\n",
       "      <td>6</td>\n",
       "      <td>4</td>\n",
       "      <td>724</td>\n",
       "      <td>5</td>\n",
       "      <td>50</td>\n",
       "      <td>52</td>\n",
       "      <td>6</td>\n",
       "      <td>146.0</td>\n",
       "      <td>361</td>\n",
       "      <td>3512.0</td>\n",
       "      <td>6510.0</td>\n",
       "      <td>127.00</td>\n",
       "      <td>3</td>\n",
       "    </tr>\n",
       "    <tr>\n",
       "      <th>top</th>\n",
       "      <td>Foot Locker</td>\n",
       "      <td>1185732</td>\n",
       "      <td>2021-01-17 00:00:00</td>\n",
       "      <td>West</td>\n",
       "      <td>California</td>\n",
       "      <td>Portland</td>\n",
       "      <td>Men's Street Footwear</td>\n",
       "      <td>50.0</td>\n",
       "      <td>225</td>\n",
       "      <td>100000.0</td>\n",
       "      <td>21000.0</td>\n",
       "      <td>0.35</td>\n",
       "      <td>Online</td>\n",
       "    </tr>\n",
       "    <tr>\n",
       "      <th>freq</th>\n",
       "      <td>2637</td>\n",
       "      <td>5265</td>\n",
       "      <td>77</td>\n",
       "      <td>2448</td>\n",
       "      <td>432</td>\n",
       "      <td>360</td>\n",
       "      <td>1610</td>\n",
       "      <td>557.0</td>\n",
       "      <td>207</td>\n",
       "      <td>52.0</td>\n",
       "      <td>34.0</td>\n",
       "      <td>1229.00</td>\n",
       "      <td>4889</td>\n",
       "    </tr>\n",
       "  </tbody>\n",
       "</table>\n",
       "</div>"
      ],
      "text/plain": [
       "0          Retailer  Retailer ID         Invoice Date Region       State  \\\n",
       "count          9648         9648                 9648   9648        9648   \n",
       "unique            6            4                  724      5          50   \n",
       "top     Foot Locker      1185732  2021-01-17 00:00:00   West  California   \n",
       "freq           2637         5265                   77   2448         432   \n",
       "\n",
       "0           City                Product  Price per Unit  Units Sold  \\\n",
       "count       9648                   9648          9648.0        9648   \n",
       "unique        52                      6           146.0         361   \n",
       "top     Portland  Men's Street Footwear            50.0         225   \n",
       "freq         360                   1610           557.0         207   \n",
       "\n",
       "0       Total Sales  Operating Profit  Operating Margin Sales Method  \n",
       "count        9648.0            9648.0           9648.00         9648  \n",
       "unique       3512.0            6510.0            127.00            3  \n",
       "top        100000.0           21000.0              0.35       Online  \n",
       "freq           52.0              34.0           1229.00         4889  "
      ]
     },
     "execution_count": 10,
     "metadata": {},
     "output_type": "execute_result"
    }
   ],
   "source": [
    "df.describe()"
   ]
  },
  {
   "cell_type": "code",
   "execution_count": 11,
   "metadata": {
    "execution": {
     "iopub.execute_input": "2023-08-01T20:12:24.357998Z",
     "iopub.status.busy": "2023-08-01T20:12:24.357587Z",
     "iopub.status.idle": "2023-08-01T20:12:24.371056Z",
     "shell.execute_reply": "2023-08-01T20:12:24.369695Z",
     "shell.execute_reply.started": "2023-08-01T20:12:24.357969Z"
    }
   },
   "outputs": [],
   "source": [
    "df2= df[['Product','Total Sales']].groupby('Product').sum()"
   ]
  },
  {
   "cell_type": "code",
   "execution_count": 12,
   "metadata": {
    "execution": {
     "iopub.execute_input": "2023-08-01T20:12:24.373293Z",
     "iopub.status.busy": "2023-08-01T20:12:24.372853Z",
     "iopub.status.idle": "2023-08-01T20:12:24.380874Z",
     "shell.execute_reply": "2023-08-01T20:12:24.379418Z",
     "shell.execute_reply.started": "2023-08-01T20:12:24.373248Z"
    }
   },
   "outputs": [],
   "source": [
    "df3 = df2.sort_values(by=\"Total Sales\", ascending=False)"
   ]
  },
  {
   "cell_type": "code",
   "execution_count": 13,
   "metadata": {
    "execution": {
     "iopub.execute_input": "2023-08-01T20:12:24.387548Z",
     "iopub.status.busy": "2023-08-01T20:12:24.387012Z",
     "iopub.status.idle": "2023-08-01T20:12:24.736032Z",
     "shell.execute_reply": "2023-08-01T20:12:24.734857Z",
     "shell.execute_reply.started": "2023-08-01T20:12:24.387344Z"
    }
   },
   "outputs": [
    {
     "data": {
      "text/plain": [
       "<AxesSubplot:ylabel='Product'>"
      ]
     },
     "execution_count": 13,
     "metadata": {},
     "output_type": "execute_result"
    },
    {
     "data": {
      "image/png": "[encoded data removed]",
      "text/plain": [
       "<Figure size 432x288 with 1 Axes>"
      ]
     },
     "metadata": {
      "needs_background": "light"
     },
     "output_type": "display_data"
    }
   ],
   "source": [
    "df3.plot(kind='barh', rot=0)"
   ]
  },
  {
   "cell_type": "code",
   "execution_count": 14,
   "metadata": {
    "execution": {
     "iopub.execute_input": "2023-08-01T20:12:24.739987Z",
     "iopub.status.busy": "2023-08-01T20:12:24.739604Z",
     "iopub.status.idle": "2023-08-01T20:12:24.752087Z",
     "shell.execute_reply": "2023-08-01T20:12:24.751008Z",
     "shell.execute_reply.started": "2023-08-01T20:12:24.739948Z"
    }
   },
   "outputs": [],
   "source": [
    "df4= df[['Product','Operating Profit']].groupby('Product').sum()"
   ]
  },
  {
   "cell_type": "code",
   "execution_count": 15,
   "metadata": {},
   "outputs": [],
   "source": [
    "df5 = df4.sort_values(by=\"Operating Profit\", ascending=False)"
   ]
  },
  {
   "cell_type": "code",
   "execution_count": 16,
   "metadata": {
    "execution": {
     "iopub.execute_input": "2023-08-01T20:12:24.754710Z",
     "iopub.status.busy": "2023-08-01T20:12:24.753941Z",
     "iopub.status.idle": "2023-08-01T20:12:25.106775Z",
     "shell.execute_reply": "2023-08-01T20:12:25.105589Z",
     "shell.execute_reply.started": "2023-08-01T20:12:24.754673Z"
    }
   },
   "outputs": [
    {
     "data": {
      "text/plain": [
       "<AxesSubplot:ylabel='Product'>"
      ]
     },
     "execution_count": 16,
     "metadata": {},
     "output_type": "execute_result"
    },
    {
     "data": {
      "image/png": "[encoded data removed]",
      "text/plain": [
       "<Figure size 432x288 with 1 Axes>"
      ]
     },
     "metadata": {
      "needs_background": "light"
     },
     "output_type": "display_data"
    }
   ],
   "source": [
    "df5.plot(kind='barh', rot=0)"
   ]
  },
  {
   "cell_type": "code",
   "execution_count": 17,
   "metadata": {
    "execution": {
     "iopub.execute_input": "2023-08-01T20:12:25.109635Z",
     "iopub.status.busy": "2023-08-01T20:12:25.108669Z",
     "iopub.status.idle": "2023-08-01T20:12:25.122256Z",
     "shell.execute_reply": "2023-08-01T20:12:25.121014Z",
     "shell.execute_reply.started": "2023-08-01T20:12:25.109589Z"
    }
   },
   "outputs": [],
   "source": [
    "df6=df[['Sales Method', 'Total Sales']].groupby('Sales Method').sum()"
   ]
  },
  {
   "cell_type": "code",
   "execution_count": 18,
   "metadata": {
    "execution": {
     "iopub.execute_input": "2023-08-01T20:12:25.124253Z",
     "iopub.status.busy": "2023-08-01T20:12:25.123680Z",
     "iopub.status.idle": "2023-08-01T20:12:25.132888Z",
     "shell.execute_reply": "2023-08-01T20:12:25.131649Z",
     "shell.execute_reply.started": "2023-08-01T20:12:25.124220Z"
    }
   },
   "outputs": [],
   "source": [
    "df7 = df6.sort_values(by='Total Sales', ascending=False)"
   ]
  },
  {
   "cell_type": "code",
   "execution_count": 19,
   "metadata": {
    "execution": {
     "iopub.execute_input": "2023-08-01T20:12:25.135591Z",
     "iopub.status.busy": "2023-08-01T20:12:25.134465Z",
     "iopub.status.idle": "2023-08-01T20:12:25.439404Z",
     "shell.execute_reply": "2023-08-01T20:12:25.438536Z",
     "shell.execute_reply.started": "2023-08-01T20:12:25.135540Z"
    }
   },
   "outputs": [
    {
     "data": {
      "text/plain": [
       "<AxesSubplot:ylabel='Sales Method'>"
      ]
     },
     "execution_count": 19,
     "metadata": {},
     "output_type": "execute_result"
    },
    {
     "data": {
      "image/png": "[encoded data removed]",
      "text/plain": [
       "<Figure size 432x288 with 1 Axes>"
      ]
     },
     "metadata": {
      "needs_background": "light"
     },
     "output_type": "display_data"
    }
   ],
   "source": [
    "df7.plot(kind='barh', rot = 0)"
   ]
  },
  {
   "cell_type": "code",
   "execution_count": 20,
   "metadata": {
    "execution": {
     "iopub.execute_input": "2023-08-01T20:12:25.441733Z",
     "iopub.status.busy": "2023-08-01T20:12:25.440619Z",
     "iopub.status.idle": "2023-08-01T20:12:25.453817Z",
     "shell.execute_reply": "2023-08-01T20:12:25.452742Z",
     "shell.execute_reply.started": "2023-08-01T20:12:25.441687Z"
    }
   },
   "outputs": [],
   "source": [
    "df8=df[['Sales Method', 'Operating Profit']].groupby('Sales Method').sum()"
   ]
  },
  {
   "cell_type": "code",
   "execution_count": 21,
   "metadata": {
    "execution": {
     "iopub.execute_input": "2023-08-01T20:12:25.455782Z",
     "iopub.status.busy": "2023-08-01T20:12:25.455344Z",
     "iopub.status.idle": "2023-08-01T20:12:25.466023Z",
     "shell.execute_reply": "2023-08-01T20:12:25.464882Z",
     "shell.execute_reply.started": "2023-08-01T20:12:25.455739Z"
    }
   },
   "outputs": [],
   "source": [
    "df9 = df8.sort_values(by='Operating Profit', ascending=False)"
   ]
  },
  {
   "cell_type": "code",
   "execution_count": 22,
   "metadata": {
    "execution": {
     "iopub.execute_input": "2023-08-01T20:12:25.467740Z",
     "iopub.status.busy": "2023-08-01T20:12:25.467383Z",
     "iopub.status.idle": "2023-08-01T20:12:25.737959Z",
     "shell.execute_reply": "2023-08-01T20:12:25.736737Z",
     "shell.execute_reply.started": "2023-08-01T20:12:25.467711Z"
    }
   },
   "outputs": [
    {
     "data": {
      "text/plain": [
       "<AxesSubplot:ylabel='Sales Method'>"
      ]
     },
     "execution_count": 22,
     "metadata": {},
     "output_type": "execute_result"
    },
    {
     "data": {
      "image/png": "[encoded data removed]",
      "text/plain": [
       "<Figure size 432x288 with 1 Axes>"
      ]
     },
     "metadata": {
      "needs_background": "light"
     },
     "output_type": "display_data"
    }
   ],
   "source": [
    "df9.plot(kind='barh', rot=0)"
   ]
  },
  {
   "cell_type": "code",
   "execution_count": 23,
   "metadata": {
    "execution": {
     "iopub.execute_input": "2023-08-01T20:12:25.740264Z",
     "iopub.status.busy": "2023-08-01T20:12:25.739811Z",
     "iopub.status.idle": "2023-08-01T20:12:25.752918Z",
     "shell.execute_reply": "2023-08-01T20:12:25.751647Z",
     "shell.execute_reply.started": "2023-08-01T20:12:25.740221Z"
    }
   },
   "outputs": [],
   "source": [
    "df10= df[['Retailer', 'Operating Profit']].groupby('Retailer').sum()"
   ]
  },
  {
   "cell_type": "code",
   "execution_count": 24,
   "metadata": {
    "execution": {
     "iopub.execute_input": "2023-08-01T20:12:25.755082Z",
     "iopub.status.busy": "2023-08-01T20:12:25.754676Z",
     "iopub.status.idle": "2023-08-01T20:12:26.064780Z",
     "shell.execute_reply": "2023-08-01T20:12:26.062614Z",
     "shell.execute_reply.started": "2023-08-01T20:12:25.755051Z"
    }
   },
   "outputs": [
    {
     "data": {
      "text/plain": [
       "array([<AxesSubplot:ylabel='Operating Profit'>], dtype=object)"
      ]
     },
     "execution_count": 24,
     "metadata": {},
     "output_type": "execute_result"
    },
    {
     "data": {
      "image/png": "[encoded data removed]",
      "text/plain": [
       "<Figure size 792x504 with 1 Axes>"
      ]
     },
     "metadata": {},
     "output_type": "display_data"
    }
   ],
   "source": [
    "df10.plot(kind='pie', subplots=True, figsize=(11,7), title='Operating Profit per Retailer', autopct='%1.0f%%')"
   ]
  },
  {
   "cell_type": "code",
   "execution_count": 25,
   "metadata": {
    "execution": {
     "iopub.execute_input": "2023-08-01T20:12:26.068740Z",
     "iopub.status.busy": "2023-08-01T20:12:26.067525Z",
     "iopub.status.idle": "2023-08-01T20:12:26.078576Z",
     "shell.execute_reply": "2023-08-01T20:12:26.077034Z",
     "shell.execute_reply.started": "2023-08-01T20:12:26.068694Z"
    }
   },
   "outputs": [],
   "source": [
    "df11 = df.groupby(['Region'])['Region'].count()"
   ]
  },
  {
   "cell_type": "code",
   "execution_count": 26,
   "metadata": {
    "execution": {
     "iopub.execute_input": "2023-08-01T20:12:26.081276Z",
     "iopub.status.busy": "2023-08-01T20:12:26.080287Z",
     "iopub.status.idle": "2023-08-01T20:12:26.298857Z",
     "shell.execute_reply": "2023-08-01T20:12:26.297271Z",
     "shell.execute_reply.started": "2023-08-01T20:12:26.081217Z"
    }
   },
   "outputs": [
    {
     "data": {
      "text/plain": [
       "array([<AxesSubplot:ylabel='Region'>], dtype=object)"
      ]
     },
     "execution_count": 26,
     "metadata": {},
     "output_type": "execute_result"
    },
    {
     "data": {
      "image/png": "[encoded data removed]",
      "text/plain": [
       "<Figure size 792x504 with 1 Axes>"
      ]
     },
     "metadata": {},
     "output_type": "display_data"
    }
   ],
   "source": [
    "df11.plot(kind='pie', subplots=True, figsize=(11,7), title='Region Distribution', autopct='%1.0f%%')"
   ]
  },
  {
   "cell_type": "code",
   "execution_count": 27,
   "metadata": {
    "execution": {
     "iopub.execute_input": "2023-08-01T20:12:26.316079Z",
     "iopub.status.busy": "2023-08-01T20:12:26.314971Z",
     "iopub.status.idle": "2023-08-01T20:12:26.330007Z",
     "shell.execute_reply": "2023-08-01T20:12:26.328605Z",
     "shell.execute_reply.started": "2023-08-01T20:12:26.316017Z"
    }
   },
   "outputs": [],
   "source": [
    "df['Invoice Date'] = pd.to_datetime(df['Invoice Date'])"
   ]
  },
  {
   "cell_type": "code",
   "execution_count": 28,
   "metadata": {
    "execution": {
     "iopub.execute_input": "2023-08-01T20:12:26.332416Z",
     "iopub.status.busy": "2023-08-01T20:12:26.331696Z",
     "iopub.status.idle": "2023-08-01T20:12:26.387363Z",
     "shell.execute_reply": "2023-08-01T20:12:26.385715Z",
     "shell.execute_reply.started": "2023-08-01T20:12:26.332382Z"
    }
   },
   "outputs": [
    {
     "name": "stdout",
     "output_type": "stream",
     "text": [
      "<class 'pandas.core.frame.DataFrame'>\n",
      "RangeIndex: 9648 entries, 1 to 9648\n",
      "Data columns (total 13 columns):\n",
      " #   Column            Non-Null Count  Dtype         \n",
      "---  ------            --------------  -----         \n",
      " 0   Retailer          9648 non-null   object        \n",
      " 1   Retailer ID       9648 non-null   object        \n",
      " 2   Invoice Date      9648 non-null   datetime64[ns]\n",
      " 3   Region            9648 non-null   object        \n",
      " 4   State             9648 non-null   object        \n",
      " 5   City              9648 non-null   object        \n",
      " 6   Product           9648 non-null   object        \n",
      " 7   Price per Unit    9648 non-null   object        \n",
      " 8   Units Sold        9648 non-null   object        \n",
      " 9   Total Sales       9648 non-null   object        \n",
      " 10  Operating Profit  9648 non-null   object        \n",
      " 11  Operating Margin  9648 non-null   object        \n",
      " 12  Sales Method      9648 non-null   object        \n",
      "dtypes: datetime64[ns](1), object(12)\n",
      "memory usage: 980.0+ KB\n"
     ]
    }
   ],
   "source": [
    "df.info()"
   ]
  },
  {
   "cell_type": "markdown",
   "metadata": {},
   "source": [
    "# Forecasting"
   ]
  },
  {
   "cell_type": "code",
   "execution_count": 35,
   "metadata": {
    "execution": {
     "iopub.execute_input": "2023-08-01T20:12:26.397641Z",
     "iopub.status.busy": "2023-08-01T20:12:26.397282Z",
     "iopub.status.idle": "2023-08-01T20:12:29.616786Z",
     "shell.execute_reply": "2023-08-01T20:12:29.615579Z",
     "shell.execute_reply.started": "2023-08-01T20:12:26.397611Z"
    }
   },
   "outputs": [],
   "source": [
    "from prophet import Prophet\n",
    "\n",
    "df['Invoice Date'] = pd.to_datetime(df['Invoice Date'])\n",
    "grouped_df = df.groupby('Region')\n",
    "forecasts = {}"
   ]
  },
  {
   "cell_type": "code",
   "execution_count": 36,
   "metadata": {},
   "outputs": [
    {
     "name": "stderr",
     "output_type": "stream",
     "text": [
      "15:35:00 - cmdstanpy - INFO - Chain [1] start processing\n",
      "15:35:00 - cmdstanpy - INFO - Chain [1] done processing\n",
      "15:35:00 - cmdstanpy - INFO - Chain [1] start processing\n",
      "15:35:00 - cmdstanpy - INFO - Chain [1] done processing\n",
      "15:35:00 - cmdstanpy - INFO - Chain [1] start processing\n",
      "15:35:00 - cmdstanpy - INFO - Chain [1] done processing\n",
      "15:35:01 - cmdstanpy - INFO - Chain [1] start processing\n",
      "15:35:01 - cmdstanpy - INFO - Chain [1] done processing\n",
      "15:35:01 - cmdstanpy - INFO - Chain [1] start processing\n",
      "15:35:01 - cmdstanpy - INFO - Chain [1] done processing\n"
     ]
    },
    {
     "name": "stdout",
     "output_type": "stream",
     "text": [
      "Forecast for Midwest:\n",
      "           ds          yhat\n",
      "0  2022-01-31  1.354408e+07\n",
      "1  2022-02-28  1.405811e+07\n",
      "2  2022-03-31  1.462721e+07\n",
      "3  2022-04-30  1.517796e+07\n",
      "4  2022-05-31  1.574706e+07\n",
      "5  2022-06-30  1.629781e+07\n",
      "6  2022-07-31  1.686691e+07\n",
      "7  2022-08-31  1.743602e+07\n",
      "8  2022-09-30  1.798676e+07\n",
      "9  2022-10-31  1.855587e+07\n",
      "10 2022-11-30  1.910662e+07\n",
      "11 2022-12-31  1.967572e+07\n",
      "\n",
      "\n",
      "Forecast for Northeast:\n",
      "           ds          yhat\n",
      "0  2022-01-31  1.485738e+07\n",
      "1  2022-02-28  1.537790e+07\n",
      "2  2022-03-31  1.595418e+07\n",
      "3  2022-04-30  1.651187e+07\n",
      "4  2022-05-31  1.708815e+07\n",
      "5  2022-06-30  1.764584e+07\n",
      "6  2022-07-31  1.822212e+07\n",
      "7  2022-08-31  1.879840e+07\n",
      "8  2022-09-30  1.935609e+07\n",
      "9  2022-10-31  1.993237e+07\n",
      "10 2022-11-30  2.049006e+07\n",
      "11 2022-12-31  2.106634e+07\n",
      "\n",
      "\n",
      "Forecast for South:\n",
      "           ds          yhat\n",
      "0  2022-01-31  1.407109e+07\n",
      "1  2022-02-28  1.465021e+07\n",
      "2  2022-03-31  1.529138e+07\n",
      "3  2022-04-30  1.591186e+07\n",
      "4  2022-05-31  1.655302e+07\n",
      "5  2022-06-30  1.717351e+07\n",
      "6  2022-07-31  1.781467e+07\n",
      "7  2022-08-31  1.845584e+07\n",
      "8  2022-09-30  1.907632e+07\n",
      "9  2022-10-31  1.971749e+07\n",
      "10 2022-11-30  2.033797e+07\n",
      "11 2022-12-31  2.097914e+07\n",
      "\n",
      "\n",
      "Forecast for Southeast:\n",
      "           ds          yhat\n",
      "0  2022-01-31  1.456457e+07\n",
      "1  2022-02-28  1.513250e+07\n",
      "2  2022-03-31  1.576129e+07\n",
      "3  2022-04-30  1.636979e+07\n",
      "4  2022-05-31  1.699857e+07\n",
      "5  2022-06-30  1.760707e+07\n",
      "6  2022-07-31  1.823586e+07\n",
      "7  2022-08-31  1.886464e+07\n",
      "8  2022-09-30  1.947314e+07\n",
      "9  2022-10-31  2.010193e+07\n",
      "10 2022-11-30  2.071043e+07\n",
      "11 2022-12-31  2.133921e+07\n",
      "\n",
      "\n",
      "Forecast for West:\n",
      "           ds          yhat\n",
      "0  2022-01-31  1.682292e+07\n",
      "1  2022-02-28  1.723017e+07\n",
      "2  2022-03-31  1.768105e+07\n",
      "3  2022-04-30  1.811739e+07\n",
      "4  2022-05-31  1.856828e+07\n",
      "5  2022-06-30  1.900462e+07\n",
      "6  2022-07-31  1.945550e+07\n",
      "7  2022-08-31  1.990639e+07\n",
      "8  2022-09-30  2.034273e+07\n",
      "9  2022-10-31  2.079361e+07\n",
      "10 2022-11-30  2.122995e+07\n",
      "11 2022-12-31  2.168084e+07\n",
      "\n",
      "\n"
     ]
    }
   ],
   "source": [
    "for region, region_df in grouped_df:\n",
    "    region_df.set_index('Invoice Date', inplace=True)\n",
    "    monthly_sales = region_df['Total Sales'].resample('M').sum()\n",
    "\n",
    "    # Create a Prophet instance and fit the model\n",
    "    model = Prophet()\n",
    "    model.fit(pd.DataFrame({'ds': monthly_sales.index, 'y': monthly_sales.values}))\n",
    "    \n",
    "    # Make future dates for forecasting\n",
    "    future_dates = pd.date_range(start=monthly_sales.index[-1] + pd.DateOffset(months=1), periods=12, freq='M')\n",
    "    \n",
    "    # Forecast the trend values for the next three months\n",
    "    forecast = model.predict(pd.DataFrame({'ds': future_dates}))\n",
    "    forecasted_trend = forecast['yhat'].values\n",
    "\n",
    "    forecast_df = pd.DataFrame({'ds': future_dates, 'yhat': forecasted_trend})\n",
    "    forecasts[region] = forecast_df\n",
    "\n",
    "for region, forecast_df in forecasts.items():\n",
    "    print(f\"Forecast for {region}:\")\n",
    "    print(forecast_df)\n",
    "    print(\"\\n\")"
   ]
  },
  {
   "cell_type": "code",
   "execution_count": null,
   "metadata": {},
   "outputs": [],
   "source": []
  }
 ],
 "metadata": {
  "kernelspec": {
   "display_name": "Python 3 (ipykernel)",
   "language": "python",
   "name": "python3"
  },
  "language_info": {
   "codemirror_mode": {
    "name": "ipython",
    "version": 3
   },
   "file_extension": ".py",
   "mimetype": "text/x-python",
   "name": "python",
   "nbconvert_exporter": "python",
   "pygments_lexer": "ipython3",
   "version": "3.9.12"
  }
 },
 "nbformat": 4,
 "nbformat_minor": 4
}
